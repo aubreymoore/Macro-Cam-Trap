{
 "cells": [
  {
   "cell_type": "code",
   "execution_count": null,
   "metadata": {},
   "outputs": [],
   "source": [
    "import pandas as pd\n",
    "import cv2\n",
    "import myfunctions\n",
    "import argparse\n",
    "import sys"
   ]
  },
  {
   "cell_type": "code",
   "execution_count": 5,
   "metadata": {},
   "outputs": [
    {
     "name": "stdout",
     "output_type": "stream",
     "text": [
      "bees.h264_frames/bounding_boxes.csv\n",
      "bees.h264_frames\n"
     ]
    }
   ],
   "source": [
    "# The following line allows testing of argparse within Jupyter notebook\n",
    "sys.argv = ['', 'bees.h264_frames/bounding_boxes.csv', 'bees.h264_frames']\n",
    "\n",
    "parser = argparse.ArgumentParser(description='Draw bounding boxes')\n",
    "parser.add_argument('bounding_box_csv', \n",
    "                    type=str, \n",
    "                    help='CSV file containing image filenames and bounding box coordinates')\n",
    "parser.add_argument('dir', \n",
    "                    type=str, \n",
    "                    help='Directory containing images')\n",
    "args = parser.parse_args()\n",
    "\n",
    "print(args.bounding_box_csv)\n",
    "print(args.dir)"
   ]
  },
  {
   "cell_type": "code",
   "execution_count": 7,
   "metadata": {},
   "outputs": [
    {
     "name": "stdout",
     "output_type": "stream",
     "text": [
      "                         filename       xtl       ytl       xbr       ybr\n",
      "0    bees.h264_frames/f000099.jpg  0.504167  0.000000  0.602083  0.077778\n",
      "1    bees.h264_frames/f000100.jpg  0.337500  0.311111  0.439583  0.492593\n",
      "2    bees.h264_frames/f000100.jpg  0.535417  0.000000  0.593750  0.048148\n",
      "3    bees.h264_frames/f000101.jpg  0.187500  0.737037  0.293750  0.892593\n",
      "4    bees.h264_frames/f000101.jpg  0.356250  0.355556  0.427083  0.466667\n",
      "5    bees.h264_frames/f000102.jpg  0.195833  0.774074  0.275000  0.877778\n",
      "6    bees.h264_frames/f000595.jpg  0.556250  0.744444  0.618750  0.840741\n",
      "7    bees.h264_frames/f000596.jpg  0.568750  0.770370  0.600000  0.818519\n",
      "8    bees.h264_frames/f000596.jpg  0.593750  0.451852  0.664583  0.551852\n",
      "9    bees.h264_frames/f000597.jpg  0.604167  0.470370  0.650000  0.537037\n",
      "10   bees.h264_frames/f000597.jpg  0.633333  0.174074  0.710417  0.270370\n",
      "11   bees.h264_frames/f000598.jpg  0.641667  0.192593  0.691667  0.251852\n",
      "12   bees.h264_frames/f000959.jpg  0.602083  0.085185  0.695833  0.222222\n",
      "13   bees.h264_frames/f000960.jpg  0.445833  0.488889  0.520833  0.625926\n",
      "14   bees.h264_frames/f000960.jpg  0.618750  0.107407  0.675000  0.192593\n",
      "15   bees.h264_frames/f000961.jpg  0.335417  0.818519  0.416667  0.940741\n",
      "16   bees.h264_frames/f000961.jpg  0.460417  0.514815  0.502083  0.600000\n",
      "17   bees.h264_frames/f000962.jpg  0.350000  0.837037  0.402083  0.922222\n",
      "18   bees.h264_frames/f001570.jpg  0.145833  0.914815  0.220833  1.000000\n",
      "19   bees.h264_frames/f001571.jpg  0.158333  0.933333  0.202083  1.000000\n",
      "20   bees.h264_frames/f001571.jpg  0.225000  0.455556  0.281250  0.562963\n",
      "21   bees.h264_frames/f001572.jpg  0.306250  0.000000  0.343750  0.037037\n",
      "22   bees.h264_frames/f001576.jpg  0.829167  0.000000  0.908333  0.092593\n",
      "23   bees.h264_frames/f001577.jpg  0.731250  0.137037  0.841667  0.292593\n",
      "24   bees.h264_frames/f001577.jpg  0.839583  0.000000  0.897917  0.081481\n",
      "25   bees.h264_frames/f001578.jpg  0.733333  0.288889  0.810417  0.422222\n",
      "26   bees.h264_frames/f001578.jpg  0.679167  0.281481  0.720833  0.359259\n",
      "27   bees.h264_frames/f001578.jpg  0.756250  0.162963  0.827083  0.277778\n",
      "28   bees.h264_frames/f001579.jpg  0.735417  0.407407  0.785417  0.492593\n",
      "29   bees.h264_frames/f001579.jpg  0.645833  0.381481  0.727083  0.474074\n",
      "..                            ...       ...       ...       ...       ...\n",
      "139  bees.h264_frames/f009065.jpg  0.387500  0.488889  0.445833  0.551852\n",
      "140  bees.h264_frames/f009065.jpg  0.381250  0.129630  0.475000  0.240741\n",
      "141  bees.h264_frames/f009066.jpg  0.418750  0.177778  0.458333  0.218519\n",
      "142  bees.h264_frames/f009071.jpg  0.225000  0.959259  0.277083  1.000000\n",
      "143  bees.h264_frames/f009072.jpg  0.177083  0.803704  0.241667  0.874074\n",
      "144  bees.h264_frames/f009073.jpg  0.189583  0.818519  0.225000  0.862963\n",
      "145  bees.h264_frames/f009073.jpg  0.127083  0.640741  0.187500  0.707407\n",
      "146  bees.h264_frames/f009074.jpg  0.081250  0.470370  0.137500  0.551852\n",
      "147  bees.h264_frames/f009075.jpg  0.052083  0.314815  0.091667  0.392593\n",
      "148  bees.h264_frames/f009076.jpg  0.047917  0.174074  0.079167  0.233333\n",
      "149  bees.h264_frames/f009077.jpg  0.089583  0.022222  0.129167  0.070370\n",
      "150  bees.h264_frames/f009101.jpg  0.031250  0.007407  0.066667  0.059259\n",
      "151  bees.h264_frames/f009154.jpg  0.618750  0.966667  0.679167  1.000000\n",
      "152  bees.h264_frames/f009220.jpg  0.227083  0.188889  0.285417  0.277778\n",
      "153  bees.h264_frames/f009221.jpg  0.360417  0.385185  0.418750  0.474074\n",
      "154  bees.h264_frames/f009222.jpg  0.464583  0.492593  0.518750  0.570370\n",
      "155  bees.h264_frames/f009222.jpg  0.372917  0.403704  0.404167  0.455556\n",
      "156  bees.h264_frames/f009223.jpg  0.550000  0.548148  0.597917  0.618519\n",
      "157  bees.h264_frames/f009223.jpg  0.479167  0.507407  0.508333  0.555556\n",
      "158  bees.h264_frames/f009224.jpg  0.604167  0.566667  0.650000  0.640741\n",
      "159  bees.h264_frames/f009225.jpg  0.629167  0.596296  0.672917  0.666667\n",
      "160  bees.h264_frames/f009226.jpg  0.633333  0.637037  0.672917  0.692593\n",
      "161  bees.h264_frames/f009227.jpg  0.625000  0.666667  0.666667  0.722222\n",
      "162  bees.h264_frames/f009228.jpg  0.610417  0.696296  0.654167  0.755556\n",
      "163  bees.h264_frames/f009228.jpg  0.631250  0.637037  0.662500  0.692593\n",
      "164  bees.h264_frames/f009229.jpg  0.593750  0.733333  0.637500  0.788889\n",
      "165  bees.h264_frames/f009230.jpg  0.568750  0.755556  0.616667  0.837037\n",
      "166  bees.h264_frames/f009231.jpg  0.550000  0.807407  0.587500  0.870370\n",
      "167  bees.h264_frames/f009232.jpg  0.525000  0.866667  0.575000  0.940741\n",
      "168  bees.h264_frames/f009233.jpg  0.506250  0.955556  0.564583  1.000000\n",
      "\n",
      "[169 rows x 5 columns]\n"
     ]
    },
    {
     "name": "stderr",
     "output_type": "stream",
     "text": [
      "ERROR:root:Invalid alias: The name clear can't be aliased because it is another magic command.\n",
      "ERROR:root:Invalid alias: The name more can't be aliased because it is another magic command.\n",
      "ERROR:root:Invalid alias: The name less can't be aliased because it is another magic command.\n",
      "ERROR:root:Invalid alias: The name man can't be aliased because it is another magic command.\n"
     ]
    }
   ],
   "source": [
    "# Load bounding_boxes.csv into a data frame.\n",
    "df = pd.read_csv(args.bounding_box_csv)\n",
    "print(df)\n",
    "quit()"
   ]
  },
  {
   "cell_type": "code",
   "execution_count": 6,
   "metadata": {},
   "outputs": [
    {
     "ename": "NameError",
     "evalue": "name 'df' is not defined",
     "output_type": "error",
     "traceback": [
      "\u001b[0;31m---------------------------------------------------------------------------\u001b[0m",
      "\u001b[0;31mNameError\u001b[0m                                 Traceback (most recent call last)",
      "\u001b[0;32m<ipython-input-6-7a6afa586a71>\u001b[0m in \u001b[0;36m<module>\u001b[0;34m\u001b[0m\n\u001b[1;32m      1\u001b[0m \u001b[0;31m# Get dimensions of first frame, we assume that all frames have the same size.\u001b[0m\u001b[0;34m\u001b[0m\u001b[0;34m\u001b[0m\u001b[0m\n\u001b[0;32m----> 2\u001b[0;31m \u001b[0mfn\u001b[0m \u001b[0;34m=\u001b[0m \u001b[0mdf\u001b[0m\u001b[0;34m[\u001b[0m\u001b[0;34m'filename'\u001b[0m\u001b[0;34m]\u001b[0m\u001b[0;34m[\u001b[0m\u001b[0;36m0\u001b[0m\u001b[0;34m]\u001b[0m\u001b[0;34m\u001b[0m\u001b[0m\n\u001b[0m\u001b[1;32m      3\u001b[0m \u001b[0mimg\u001b[0m \u001b[0;34m=\u001b[0m \u001b[0mcv2\u001b[0m\u001b[0;34m.\u001b[0m\u001b[0mimread\u001b[0m\u001b[0;34m(\u001b[0m\u001b[0mfn\u001b[0m\u001b[0;34m)\u001b[0m\u001b[0;34m\u001b[0m\u001b[0m\n\u001b[1;32m      4\u001b[0m \u001b[0mframe_width\u001b[0m\u001b[0;34m,\u001b[0m \u001b[0mframe_height\u001b[0m\u001b[0;34m,\u001b[0m \u001b[0m_\u001b[0m \u001b[0;34m=\u001b[0m \u001b[0mimg\u001b[0m\u001b[0;34m.\u001b[0m\u001b[0mshape\u001b[0m\u001b[0;34m\u001b[0m\u001b[0m\n\u001b[1;32m      5\u001b[0m \u001b[0;31m#print('{},{}'.format(frame_width, frame_height))\u001b[0m\u001b[0;34m\u001b[0m\u001b[0;34m\u001b[0m\u001b[0m\n",
      "\u001b[0;31mNameError\u001b[0m: name 'df' is not defined"
     ]
    }
   ],
   "source": [
    "# Get dimensions of first frame, we assume that all frames have the same size.\n",
    "fn = df['filename'][0]\n",
    "img = cv2.imread(fn)\n",
    "frame_width, frame_height, _ = img.shape\n",
    "#print('{},{}'.format(frame_width, frame_height))\n",
    "\n",
    "# Convert coordinates from proportions to pixels\n",
    "df['xtl'] = df['xtl'].apply(lambda x: int(x * frame_width))\n",
    "df['ytl'] = df['ytl'].apply(lambda x: int(x * frame_height))\n",
    "df['xbr'] = df['xbr'].apply(lambda x: int(x * frame_width))\n",
    "df['ybr'] = df['ybr'].apply(lambda x: int(x * frame_height))\n",
    "#print(df)\n",
    "\n",
    "# Group by frame\n",
    "grouped = df.groupby('filename')\n",
    "\n",
    "# Iterate over frames\n",
    "for name, df_group in grouped:\n",
    "    print()\n",
    "    print(name)\n",
    "    img = cv2.imread(name, cv2.IMREAD_UNCHANGED)\n",
    "    #print(img.shape)\n",
    "    #cv2.imshow('a', img)\n",
    "    #cv2.waitKey(100)\n",
    "    \n",
    "    # Draw bounding boxes on each frame\n",
    "    for index, row in df_group.iterrows():\n",
    "        img = cv2.imread(name, cv2.IMREAD_UNCHANGED)\n",
    "        print(row)\n",
    "        _, xtl, ytl, xbr, ybr = row\n",
    "        cv2.rectangle(img, (xtl, ytl), (xbr, ybr), (0, 255, 0), 3)\n",
    "\n",
    "# Show image with bounding boxes\n",
    "    cv2.imshow('a', img)\n",
    "    cv2.waitKey(100)\n",
    "\n",
    "#cv2.imshow(fn, img)\n",
    "#cv2.waitKey(0)\n",
    "#cv2.destroyAllWindows()\n",
    "\n",
    "\n",
    "\n",
    " "
   ]
  },
  {
   "cell_type": "code",
   "execution_count": null,
   "metadata": {},
   "outputs": [],
   "source": []
  }
 ],
 "metadata": {
  "kernelspec": {
   "display_name": "Python 3",
   "language": "python",
   "name": "python3"
  },
  "language_info": {
   "codemirror_mode": {
    "name": "ipython",
    "version": 2
   },
   "file_extension": ".py",
   "mimetype": "text/x-python",
   "name": "python",
   "nbconvert_exporter": "python",
   "pygments_lexer": "ipython2",
   "version": "2.7.12"
  }
 },
 "nbformat": 4,
 "nbformat_minor": 2
}
