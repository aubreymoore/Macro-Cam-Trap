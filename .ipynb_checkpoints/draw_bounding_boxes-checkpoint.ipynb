{
 "cells": [
  {
   "cell_type": "code",
   "execution_count": 46,
   "metadata": {},
   "outputs": [],
   "source": [
    "import pandas as pd\n",
    "import cv2"
   ]
  },
  {
   "cell_type": "code",
   "execution_count": 47,
   "metadata": {},
   "outputs": [],
   "source": [
    "mydir = '1563149100286'"
   ]
  },
  {
   "cell_type": "code",
   "execution_count": 48,
   "metadata": {},
   "outputs": [],
   "source": [
    "# Load bounding_boxes.csv into a data frame.\n",
    "fn = '{}/bounding_boxes.csv'.format(dir)\n",
    "df = pd.read_csv(fn)\n",
    "#df"
   ]
  },
  {
   "cell_type": "code",
   "execution_count": 49,
   "metadata": {},
   "outputs": [
    {
     "name": "stdout",
     "output_type": "stream",
     "text": [
      "1563149100286/1563149100286f000010.jpg\n"
     ]
    }
   ],
   "source": [
    "# Get dimensions of first frame, we assume that all frames have the same size.\n",
    "path = '{}/{}'.format(mydir, df['filename'][0])\n",
    "print(path)\n",
    "img = cv2.imread(path)\n",
    "frame_height, frame_width, _ = img.shape\n",
    "#print('frame_height: {}, frame_width: {}'.format(frame_height, frame_width))"
   ]
  },
  {
   "cell_type": "code",
   "execution_count": 50,
   "metadata": {},
   "outputs": [],
   "source": [
    "# Convert coordinates from proportions to pixels\n",
    "df['xtl'] = df['xtl'].apply(lambda x: int(x * frame_width))\n",
    "df['ytl'] = df['ytl'].apply(lambda x: int(x * frame_height))\n",
    "df['xbr'] = df['xbr'].apply(lambda x: int(x * frame_width))\n",
    "df['ybr'] = df['ybr'].apply(lambda x: int(x * frame_height))"
   ]
  },
  {
   "cell_type": "code",
   "execution_count": 51,
   "metadata": {},
   "outputs": [],
   "source": [
    "# Group by frame\n",
    "grouped = df.groupby('filename')"
   ]
  },
  {
   "cell_type": "code",
   "execution_count": 52,
   "metadata": {},
   "outputs": [],
   "source": [
    "# Iterate over frames\n",
    "for name, df_group in grouped:\n",
    "    img = cv2.imread(name, cv2.IMREAD_UNCHANGED)\n",
    "    \n",
    "    # Draw bounding boxes on each frame\n",
    "    for index, row in df_group.iterrows():\n",
    "        filename, xtl, ytl, xbr, ybr = row\n",
    "        path = '{}/{}'.format(mydir, filename)\n",
    "        img = cv2.imread(path, cv2.IMREAD_UNCHANGED)\n",
    "        cv2.rectangle(img, (xtl, ytl), (xbr, ybr), (0, 255, 0), 3)\n",
    "\n",
    "# Show image with bounding boxes\n",
    "    cv2.imshow(mydir, img)\n",
    "    cv2.waitKey(1000)\n",
    "\n",
    "cv2.destroyAllWindows()"
   ]
  },
  {
   "cell_type": "code",
   "execution_count": null,
   "metadata": {},
   "outputs": [],
   "source": []
  }
 ],
 "metadata": {
  "kernelspec": {
   "display_name": "Python 3",
   "language": "python",
   "name": "python3"
  },
  "language_info": {
   "codemirror_mode": {
    "name": "ipython",
    "version": 3
   },
   "file_extension": ".py",
   "mimetype": "text/x-python",
   "name": "python",
   "nbconvert_exporter": "python",
   "pygments_lexer": "ipython3",
   "version": "3.5.2"
  }
 },
 "nbformat": 4,
 "nbformat_minor": 2
}
