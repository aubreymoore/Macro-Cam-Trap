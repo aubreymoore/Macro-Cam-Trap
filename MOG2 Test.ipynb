{
 "cells": [
  {
   "cell_type": "markdown",
   "metadata": {},
   "source": [
    "# MOG2 Test\n",
    "\n",
    "https://stackoverflow.com/questions/33266239/differences-between-mog-mog2-and-gmg"
   ]
  },
  {
   "cell_type": "code",
   "execution_count": 1,
   "metadata": {},
   "outputs": [],
   "source": [
    "import numpy as np\n",
    "import cv2"
   ]
  },
  {
   "cell_type": "code",
   "execution_count": 2,
   "metadata": {},
   "outputs": [],
   "source": [
    "video = '/media/aubrey/9016-4EF8/ants/VID_20190810_120737.mp4'\n",
    "\n",
    "cap = cv2.VideoCapture(video)\n",
    "\n",
    "# defaults: history=500, varThreshold=16, detectShadows=True\n",
    "# varThreshold=50 seems to be a good compromise\n",
    "fgbg = cv2.createBackgroundSubtractorMOG2(history=500, varThreshold=50, detectShadows=True)\n",
    "while True:\n",
    "    ret, frame = cap.read()\n",
    "    \n",
    "    # If we are at the end of the file, the frame will be empty, so break out of the loop.\n",
    "    if frame is None:\n",
    "        break\n",
    "\n",
    "    fgmask = fgbg.apply(frame)\n",
    "    # fgmask[fgmask==127] = 0 #remove pixels tagged as shadow by MOG2 (value=127)\n",
    "    cv2.imshow('fgmask',fgmask)\n",
    "    cv2.waitKey(1)\n",
    "cap.release()\n",
    "cv2.destroyAllWindows()"
   ]
  }
 ],
 "metadata": {
  "kernelspec": {
   "display_name": "Python 3",
   "language": "python",
   "name": "python3"
  },
  "language_info": {
   "codemirror_mode": {
    "name": "ipython",
    "version": 3
   },
   "file_extension": ".py",
   "mimetype": "text/x-python",
   "name": "python",
   "nbconvert_exporter": "python",
   "pygments_lexer": "ipython3",
   "version": "3.5.2"
  }
 },
 "nbformat": 4,
 "nbformat_minor": 2
}
