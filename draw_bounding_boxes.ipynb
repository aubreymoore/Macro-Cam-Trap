{
 "cells": [
  {
   "cell_type": "code",
   "execution_count": 67,
   "metadata": {},
   "outputs": [],
   "source": [
    "import pandas as pd\n",
    "import cv2\n",
    "import argparse\n",
    "import sys"
   ]
  },
  {
   "cell_type": "code",
   "execution_count": 68,
   "metadata": {},
   "outputs": [],
   "source": [
    "# The following line allows testing argparse within a Jupyter notebook\n",
    "# Comment it out when using code in a script\n",
    "sys.argv = ['draw_bounding_boxes', '/media/aubrey/70D7-5135/videos', '1563341307489']\n",
    "\n",
    "parser = argparse.ArgumentParser(description='Description goes here.')\n",
    "\n",
    "parser.add_argument('data_dir',\n",
    "                    type=str,\n",
    "                    help='data directory (without trailing /) \\\n",
    "                    Example: /media/pi/9016-4EF8/videos')\n",
    "  \n",
    "parser.add_argument('video_timestamp',\n",
    "                    type=str,\n",
    "                    help='video timestamp \\\n",
    "                    Example: 1562836438727')\n",
    "\n",
    "parser.add_argument('--delay_ms',\n",
    "                    default=100,\n",
    "                    help='delay between frames in milliseconds (default=100)')\n",
    "                    \n",
    "args = parser.parse_args()"
   ]
  },
  {
   "cell_type": "code",
   "execution_count": 69,
   "metadata": {},
   "outputs": [],
   "source": [
    "# Load bounding_boxes.csv into a data frame.\n",
    "fn = '{}/{}/bounding_boxes.csv'.format(args.data_dir, args.video_timestamp)\n",
    "df = pd.read_csv(fn)\n",
    "#df"
   ]
  },
  {
   "cell_type": "code",
   "execution_count": 70,
   "metadata": {},
   "outputs": [],
   "source": [
    "# Get dimensions of first frame, we assume that all frames have the same size.\n",
    "path = '{}/{}'.format(mydir, df['filename'][0])\n",
    "#print(path)\n",
    "img = cv2.imread(path)\n",
    "frame_height, frame_width, _ = img.shape\n",
    "#print('frame_height: {}, frame_width: {}'.format(frame_height, frame_width))"
   ]
  },
  {
   "cell_type": "code",
   "execution_count": 71,
   "metadata": {},
   "outputs": [],
   "source": [
    "# Convert coordinates from proportions to pixels\n",
    "df['xtl'] = df['xtl'].apply(lambda x: int(x * frame_width))\n",
    "df['ytl'] = df['ytl'].apply(lambda x: int(x * frame_height))\n",
    "df['xbr'] = df['xbr'].apply(lambda x: int(x * frame_width))\n",
    "df['ybr'] = df['ybr'].apply(lambda x: int(x * frame_height))"
   ]
  },
  {
   "cell_type": "code",
   "execution_count": 72,
   "metadata": {},
   "outputs": [],
   "source": [
    "# Group by frame\n",
    "grouped = df.groupby('filename')"
   ]
  },
  {
   "cell_type": "code",
   "execution_count": 73,
   "metadata": {},
   "outputs": [],
   "source": [
    "# Iterate over frames\n",
    "for name, df_group in grouped:\n",
    "    img = cv2.imread(name, cv2.IMREAD_UNCHANGED)\n",
    "    \n",
    "    # Draw bounding boxes on each frame\n",
    "    for index, row in df_group.iterrows():\n",
    "        filename, xtl, ytl, xbr, ybr = row\n",
    "        cv2.rectangle(img, (xtl, ytl), (xbr, ybr), (0, 255, 0), 3)\n",
    "\n",
    "    # Show image with bounding boxes\n",
    "    cv2.imshow(mydir, img)\n",
    "    cv2.waitKey(args.delay_ms)\n",
    "\n",
    "cv2.destroyAllWindows()"
   ]
  },
  {
   "cell_type": "code",
   "execution_count": 74,
   "metadata": {},
   "outputs": [
    {
     "name": "stdout",
     "output_type": "stream",
     "text": [
      "[NbConvertApp] Converting notebook draw_bounding_boxes.ipynb to script\n",
      "[NbConvertApp] Writing 2309 bytes to draw_bounding_boxes.py\n"
     ]
    }
   ],
   "source": [
    "!jupyter nbconvert --to=script 'draw_bounding_boxes.ipynb'"
   ]
  },
  {
   "cell_type": "code",
   "execution_count": null,
   "metadata": {},
   "outputs": [],
   "source": []
  }
 ],
 "metadata": {
  "kernelspec": {
   "display_name": "Python 3",
   "language": "python",
   "name": "python3"
  },
  "language_info": {
   "codemirror_mode": {
    "name": "ipython",
    "version": 3
   },
   "file_extension": ".py",
   "mimetype": "text/x-python",
   "name": "python",
   "nbconvert_exporter": "python",
   "pygments_lexer": "ipython3",
   "version": "3.5.2"
  }
 },
 "nbformat": 4,
 "nbformat_minor": 2
}
