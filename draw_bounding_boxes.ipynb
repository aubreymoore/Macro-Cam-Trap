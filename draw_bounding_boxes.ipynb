{
 "cells": [
  {
   "cell_type": "markdown",
   "metadata": {},
   "source": [
    "# Draw Bounding Boxes\n",
    "\n",
    "This Jupyter notebook should be opened using the following commands:\n",
    "~~~bash\n",
    "    workon jupyter\n",
    "    jupyter notebook\n",
    "~~~"
   ]
  },
  {
   "cell_type": "code",
   "execution_count": 1,
   "metadata": {},
   "outputs": [],
   "source": [
    "import pandas as pd\n",
    "import cv2\n",
    "import argparse\n",
    "import sys"
   ]
  },
  {
   "cell_type": "code",
   "execution_count": 2,
   "metadata": {},
   "outputs": [],
   "source": [
    "# Uncomment the following line to test code within a Jupyter notebook\n",
    "sys.argv = ['draw_bounding_boxes.py', 'data/ants/VID_20190810_120737', 'VID_20190810_120737.mp4']\n",
    "\n",
    "parser = argparse.ArgumentParser(description='Draws bounding boxes on video frames.' \\\n",
    "                                 'Requires bounding boxes and frames for moving objects generated' \\\n",
    "                                 'by motion_detector.py.' )\n",
    "\n",
    "parser.add_argument('data_dir',\n",
    "                    type=str,\n",
    "                    help='data directory (without trailing /) \\\n",
    "                    Example: data/ants/VID_20190810_120737')  \n",
    "\n",
    "parser.add_argument('video_file',\n",
    "                    type=str,\n",
    "                    help='video file name \\\n",
    "                    Example: VID_20190810_120737.mp4')\n",
    "\n",
    "parser.add_argument('--delay_ms',\n",
    "                    default=33,\n",
    "                    help='delay between frames in milliseconds (default=33)' \\\n",
    "                    'This serves to slow down sequential display of frames.')\n",
    "                    \n",
    "args = parser.parse_args()"
   ]
  },
  {
   "cell_type": "code",
   "execution_count": 3,
   "metadata": {},
   "outputs": [
    {
     "name": "stdout",
     "output_type": "stream",
     "text": [
      "data/ants/VID_20190810_120737/frames/VID_20190810_120737f000001.jpg\n",
      "frame_height: 1080, frame_width: 1920\n"
     ]
    }
   ],
   "source": [
    "# Load bounding_boxes.csv into a data frame.\n",
    "fn = '{}/{}_bounding_boxes.csv'.format(args.data_dir, args.video_file.split('.')[0])\n",
    "df = pd.read_csv(fn)\n",
    "\n",
    "# Get dimensions of first frame, we assume that all frames have the same size.\n",
    "path = df['filename'][0]\n",
    "print(path)\n",
    "img = cv2.imread(path)\n",
    "frame_height, frame_width, _ = img.shape\n",
    "print('frame_height: {}, frame_width: {}'.format(frame_height, frame_width))\n",
    "\n",
    "# Convert coordinates from proportions to pixels\n",
    "df['xtl'] = df['xtl'].apply(lambda x: int(x * frame_width))\n",
    "df['ytl'] = df['ytl'].apply(lambda x: int(x * frame_height))\n",
    "df['xbr'] = df['xbr'].apply(lambda x: int(x * frame_width))\n",
    "df['ybr'] = df['ybr'].apply(lambda x: int(x * frame_height))\n",
    "\n",
    "# Group by frame\n",
    "grouped = df.groupby('filename')\n",
    "\n",
    "# Iterate over frames\n",
    "for name, df_group in grouped:\n",
    "    img = cv2.imread(name, cv2.IMREAD_UNCHANGED)\n",
    "    \n",
    "    # Draw bounding boxes on each frame\n",
    "    for index, row in df_group.iterrows():\n",
    "        filename, xtl, ytl, xbr, ybr = row\n",
    "        cv2.rectangle(img, (xtl, ytl), (xbr, ybr), (0, 255, 0), 3)\n",
    "\n",
    "    # Show image with bounding boxes\n",
    "    cv2.imshow(args.data_dir, img)\n",
    "    cv2.waitKey(args.delay_ms)\n",
    "\n",
    "cv2.destroyAllWindows()"
   ]
  },
  {
   "cell_type": "code",
   "execution_count": 4,
   "metadata": {},
   "outputs": [],
   "source": [
    "# Uncomment the following line to create a pure python script called draw_bounding_boxes.py\n",
    "#!jupyter nbconvert --to=script 'draw_bounding_boxes.ipynb'"
   ]
  },
  {
   "cell_type": "code",
   "execution_count": null,
   "metadata": {},
   "outputs": [],
   "source": []
  }
 ],
 "metadata": {
  "kernelspec": {
   "display_name": "Python 3",
   "language": "python",
   "name": "python3"
  },
  "language_info": {
   "codemirror_mode": {
    "name": "ipython",
    "version": 3
   },
   "file_extension": ".py",
   "mimetype": "text/x-python",
   "name": "python",
   "nbconvert_exporter": "python",
   "pygments_lexer": "ipython3",
   "version": "3.5.2"
  }
 },
 "nbformat": 4,
 "nbformat_minor": 2
}
