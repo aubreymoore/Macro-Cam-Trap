{
 "cells": [
  {
   "cell_type": "code",
   "execution_count": 22,
   "metadata": {},
   "outputs": [],
   "source": [
    "import pandas as pd\n",
    "import cv2"
   ]
  },
  {
   "cell_type": "code",
   "execution_count": 23,
   "metadata": {},
   "outputs": [],
   "source": [
    "# Load bounding_boxes.csv into a data frame.\n",
    "fn = 'bees.h264_frames/bounding_boxes.csv'\n",
    "df = pd.read_csv(fn)"
   ]
  },
  {
   "cell_type": "code",
   "execution_count": 24,
   "metadata": {},
   "outputs": [],
   "source": [
    "# Get dimensions of first frame, we assume that all frames have the same size.\n",
    "fn = df['filename'][0]\n",
    "img = cv2.imread(fn)\n",
    "frame_height, frame_width, _ = img.shape"
   ]
  },
  {
   "cell_type": "code",
   "execution_count": 25,
   "metadata": {},
   "outputs": [],
   "source": [
    "# Convert coordinates from proportions to pixels\n",
    "df['xtl'] = df['xtl'].apply(lambda x: int(x * frame_width))\n",
    "df['ytl'] = df['ytl'].apply(lambda x: int(x * frame_height))\n",
    "df['xbr'] = df['xbr'].apply(lambda x: int(x * frame_width))\n",
    "df['ybr'] = df['ybr'].apply(lambda x: int(x * frame_height))\n",
    "\n",
    "# Group by frame\n",
    "grouped = df.groupby('filename')\n",
    "\n",
    "# Iterate over frames\n",
    "for name, df_group in grouped:\n",
    "    img = cv2.imread(name, cv2.IMREAD_UNCHANGED)\n",
    "    \n",
    "    # Draw bounding boxes on each frame\n",
    "    for index, row in df_group.iterrows():\n",
    "        img = cv2.imread(name, cv2.IMREAD_UNCHANGED)\n",
    "        _, xtl, ytl, xbr, ybr = row\n",
    "        cv2.rectangle(img, (xtl, ytl), (xbr, ybr), (0, 255, 0), 3)\n",
    "\n",
    "# Show image with bounding boxes\n",
    "    cv2.imshow('a', img)\n",
    "    cv2.waitKey(100)\n",
    "\n",
    "cv2.destroyAllWindows()"
   ]
  }
 ],
 "metadata": {},
 "nbformat": 4,
 "nbformat_minor": 2
}
